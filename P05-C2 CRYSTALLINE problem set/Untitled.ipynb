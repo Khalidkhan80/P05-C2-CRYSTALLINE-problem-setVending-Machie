{
 "cells": [
  {
   "cell_type": "code",
   "execution_count": null,
   "id": "b1ceef6f-36ca-4025-9932-f4c8aca88f16",
   "metadata": {},
   "outputs": [],
   "source": [
    "import dill as pickle\n",
    "from abc import ABC, abstractmethod\n",
    "\n",
    "\n",
    "# interface that all loaded implementations implement\n",
    "class AbstractVendingMachine(ABC):\n",
    "\n",
    "    @abstractmethod\n",
    "    # user can add any coin (0.5, 1, 2)\n",
    "    # you can experiment with more to better understand how automata learning works, but it is not necessary\n",
    "    def add_coin(self, coin):\n",
    "        pass\n",
    "\n",
    "    @abstractmethod\n",
    "    # possible orders are 'coke', 'peanuts', 'water'\n",
    "    def push_button(self, order):\n",
    "        pass\n",
    "\n",
    "    @abstractmethod\n",
    "    def reset(self):\n",
    "        pass\n",
    "\n",
    "\n",
    "if __name__ == '__main__':\n",
    "\n",
    "    # Load 3 implementations of the same interface\n",
    "    black_box_models = []\n",
    "    for model_pickle in ['vending_machine_1.pickle', 'vending_machine_2.pickle',\n",
    "                         'vending_machine_3.pickle', 'vending_machine_4.pickle']:\n",
    "\n",
    "        with open(f'black_box_impl/{model_pickle}', 'rb') as handle:\n",
    "            loaded_model = pickle.load(handle)\n",
    "            black_box_models.append(loaded_model)\n",
    "\n",
    "    # Example how to interact with the vending machine\n",
    "    # get on of the vending machines\n",
    "    vm = black_box_models[3]\n",
    "    # reset it\n",
    "    vm.reset()\n",
    "    # perform an action\n",
    "    print(vm.push_button('coke'))\n",
    "    print(vm.add_coin(1))\n",
    "\n",
    "    # TODOs\n",
    "    # TODO 1. Learn models of Vending Machines\n",
    "    # TODO 2. Write/use a function that performs leaning-based testing to find the differances between them (if any)\n",
    "    # TODO 3. By performing an analysis of the learned models with function from TODO 2,\n",
    "    #  figure out which model is correct, and what are the bugs in other models\n",
    "    # TODO 4. Report the findings in the Report.md\n"
   ]
  },
  {
   "cell_type": "code",
   "execution_count": null,
   "id": "9f73b6ff-650a-4b49-86c1-558b9eea72d6",
   "metadata": {},
   "outputs": [],
   "source": []
  },
  {
   "cell_type": "code",
   "execution_count": null,
   "id": "21d91d67-bf3a-4f90-ab00-f5600f982039",
   "metadata": {},
   "outputs": [],
   "source": []
  }
 ],
 "metadata": {
  "kernelspec": {
   "display_name": "Python 3 (ipykernel)",
   "language": "python",
   "name": "python3"
  },
  "language_info": {
   "codemirror_mode": {
    "name": "ipython",
    "version": 3
   },
   "file_extension": ".py",
   "mimetype": "text/x-python",
   "name": "python",
   "nbconvert_exporter": "python",
   "pygments_lexer": "ipython3",
   "version": "3.12.7"
  }
 },
 "nbformat": 4,
 "nbformat_minor": 5
}
